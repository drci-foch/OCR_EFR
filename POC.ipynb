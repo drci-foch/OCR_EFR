{
 "cells": [
  {
   "cell_type": "code",
   "execution_count": 5,
   "metadata": {},
   "outputs": [],
   "source": [
    "try:\n",
    "    from PIL import Image\n",
    "except ImportError:\n",
    "    import Image\n",
    "import pytesseract\n",
    "import pandas as pd\n"
   ]
  },
  {
   "cell_type": "code",
   "execution_count": 6,
   "metadata": {},
   "outputs": [
    {
     "data": {
      "text/plain": [
       "'Capacité vitale Pleth. [Ll]\\nVol. Residuel Pleth. [l]\\nCap. Pulm. Totale Pleth. [l]\\nCRF pléthysmo. [L]\\nVR % CPT pleth. [%]\\n\\nConductances spécifiques [1/(KPA*S)]\\n\\nCV Forcée Expi [l]\\nVEMS tu\\nVEMS % CV MAX [%]\\n\\nDEMM 25/75 [l/s]\\n\\nThéo.\\n\\n2.76\\n1.79\\n4.70\\n\\n2.62\\n38.34\\n\\n1.04\\n2.67\\n\\n2.26\\n78.3\\n2gy/\\n\\nLIN\\n\\n2.07\\nLal\\n3.72\\n\\n1.80\\n28.75\\n\\n1.04\\n1.96\\n\\n1.63\\n67.6\\n1.57\\n\\n241\\n3.83\\n6.24\\n\\n5.01\\n61.36\\n\\n0.35\\n2.18\\n\\n1.12\\n46.4\\n0.48\\n\\n% Théo.\\n\\n87\\n214\\n133\\n\\n191\\n160\\n\\n34\\n82\\n\\n50\\n9)\\n16\\n'"
      ]
     },
     "execution_count": 6,
     "metadata": {},
     "output_type": "execute_result"
    }
   ],
   "source": [
    "text = pytesseract.image_to_string('test2.png')\n",
    "\n",
    "text"
   ]
  },
  {
   "attachments": {},
   "cell_type": "markdown",
   "metadata": {},
   "source": [
    "## Simple processing"
   ]
  },
  {
   "cell_type": "code",
   "execution_count": 26,
   "metadata": {},
   "outputs": [
    {
     "data": {
      "text/plain": [
       "['Capacité vitale Pleth. [Ll]',\n",
       " 'Vol. Residuel Pleth. [l]',\n",
       " 'Cap. Pulm. Totale Pleth. [l]',\n",
       " 'CRF pléthysmo. [L]',\n",
       " 'VR % CPT pleth. [%]',\n",
       " '',\n",
       " 'Conductances spécifiques [1/(KPA*S)]',\n",
       " '',\n",
       " 'CV Forcée Expi [l]',\n",
       " 'VEMS tu',\n",
       " 'VEMS % CV MAX [%]',\n",
       " '',\n",
       " 'DEMM 25/75 [l/s]',\n",
       " '',\n",
       " 'Théo.',\n",
       " '',\n",
       " '2.76',\n",
       " '1.79',\n",
       " '4.70',\n",
       " '',\n",
       " '2.62',\n",
       " '38.34',\n",
       " '',\n",
       " '1.04',\n",
       " '2.67',\n",
       " '',\n",
       " '2.26',\n",
       " '78.3',\n",
       " '2gy/',\n",
       " '',\n",
       " 'LIN',\n",
       " '',\n",
       " '2.07',\n",
       " 'Lal',\n",
       " '3.72',\n",
       " '',\n",
       " '1.80',\n",
       " '28.75',\n",
       " '',\n",
       " '1.04',\n",
       " '1.96',\n",
       " '',\n",
       " '1.63',\n",
       " '67.6',\n",
       " '1.57',\n",
       " '',\n",
       " '241',\n",
       " '3.83',\n",
       " '6.24',\n",
       " '',\n",
       " '5.01',\n",
       " '61.36',\n",
       " '',\n",
       " '0.35',\n",
       " '2.18',\n",
       " '',\n",
       " '1.12',\n",
       " '46.4',\n",
       " '0.48',\n",
       " '',\n",
       " '% Théo.',\n",
       " '',\n",
       " '87',\n",
       " '214',\n",
       " '133',\n",
       " '',\n",
       " '191',\n",
       " '160',\n",
       " '',\n",
       " '34',\n",
       " '82',\n",
       " '',\n",
       " '50',\n",
       " '9)',\n",
       " '16',\n",
       " '']"
      ]
     },
     "execution_count": 26,
     "metadata": {},
     "output_type": "execute_result"
    }
   ],
   "source": [
    "# Splitting the text into sections for LIN, Basal, and % Théo\n",
    "sections = text.split('\\n')\n",
    "sections"
   ]
  },
  {
   "cell_type": "code",
   "execution_count": 27,
   "metadata": {},
   "outputs": [
    {
     "data": {
      "text/plain": [
       "['Capacité vitale Pleth. [Ll]',\n",
       " 'Cap. Pulm. Totale Pleth. [l]',\n",
       " 'CRF pléthysmo. [L]']"
      ]
     },
     "execution_count": 27,
     "metadata": {},
     "output_type": "execute_result"
    }
   ],
   "source": [
    "parameters = structured_list[:13]\n",
    "theo_values = structured_list[15:28:3]\n",
    "lin_values = structured_list[30:43:3]\n",
    "percent_theo_values = structured_list[45:58:3]\n"
   ]
  },
  {
   "cell_type": "code",
   "execution_count": null,
   "metadata": {},
   "outputs": [],
   "source": [
    "\n",
    "lin_values = sections[4].split(\"\\n\")\n",
    "basal_values = sections[5].split(\"\\n\")\n",
    "theo_values = sections[7].split(\"\\n\")\n"
   ]
  },
  {
   "cell_type": "code",
   "execution_count": 17,
   "metadata": {},
   "outputs": [
    {
     "data": {
      "text/plain": [
       "'Théo.'"
      ]
     },
     "execution_count": 17,
     "metadata": {},
     "output_type": "execute_result"
    }
   ],
   "source": [
    "sections[4]"
   ]
  },
  {
   "cell_type": "code",
   "execution_count": null,
   "metadata": {},
   "outputs": [],
   "source": [
    "\n",
    "# Removing any extraneous values or inconsistencies in the data\n",
    "while 'Théo.' in lin_values: lin_values.remove('Théo.')\n",
    "while 'LIN' in basal_values: basal_values.remove('LIN')\n",
    "while '% Théo.' in theo_values: theo_values.remove('% Théo.')\n",
    "\n",
    "# Constructing the dataframe\n",
    "df = pd.DataFrame({\n",
    "    'Parameters': parameters_section,\n",
    "    'LIN': lin_values,\n",
    "    'Basal': basal_values,\n",
    "    '% Théo': theo_values\n",
    "})\n",
    "\n",
    "df\n"
   ]
  },
  {
   "attachments": {},
   "cell_type": "markdown",
   "metadata": {},
   "source": [
    "## More extensive processing"
   ]
  },
  {
   "cell_type": "code",
   "execution_count": null,
   "metadata": {},
   "outputs": [],
   "source": []
  }
 ],
 "metadata": {
  "kernelspec": {
   "display_name": "OCR_EFR",
   "language": "python",
   "name": "python3"
  },
  "language_info": {
   "codemirror_mode": {
    "name": "ipython",
    "version": 3
   },
   "file_extension": ".py",
   "mimetype": "text/x-python",
   "name": "python",
   "nbconvert_exporter": "python",
   "pygments_lexer": "ipython3",
   "version": "3.11.6"
  },
  "orig_nbformat": 4
 },
 "nbformat": 4,
 "nbformat_minor": 2
}
