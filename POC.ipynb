{
 "cells": [
  {
   "cell_type": "code",
   "execution_count": 1,
   "metadata": {},
   "outputs": [],
   "source": [
    "try:\n",
    "    from PIL import Image\n",
    "except ImportError:\n",
    "    import Image\n",
    "import pytesseract\n",
    "import pandas as pd\n",
    "import cv2\n",
    "import numpy as np"
   ]
  },
  {
   "attachments": {},
   "cell_type": "markdown",
   "metadata": {},
   "source": [
    "## Pre-processing de l'image"
   ]
  },
  {
   "cell_type": "code",
   "execution_count": 2,
   "metadata": {},
   "outputs": [
    {
     "data": {
      "text/plain": [
       "True"
      ]
     },
     "execution_count": 2,
     "metadata": {},
     "output_type": "execute_result"
    }
   ],
   "source": [
    "image = cv2.imread('test2.png', cv2.IMREAD_GRAYSCALE)\n",
    "\n",
    "# Augmenter la résolution en redimensionnant l'image (si nécessaire)\n",
    "image = cv2.resize(image, None, fx=2, fy=2, interpolation=cv2.INTER_CUBIC)\n",
    "\n",
    "# Binarisation\n",
    "_, image = cv2.threshold(image, 128, 255, cv2.THRESH_BINARY + cv2.THRESH_OTSU)\n",
    "\n",
    "# Denoising\n",
    "image = cv2.medianBlur(image, 1)\n",
    "\n",
    "# Enregistrez l'image prétraitée si vous voulez la vérifier\n",
    "cv2.imwrite('preprocessed_image.png', image)\n",
    "\n"
   ]
  },
  {
   "attachments": {},
   "cell_type": "markdown",
   "metadata": {},
   "source": [
    "## OCR avec tesseract basique"
   ]
  },
  {
   "cell_type": "code",
   "execution_count": 3,
   "metadata": {},
   "outputs": [
    {
     "data": {
      "text/plain": [
       "'Capacité vitale Pleth. (L]\\nVol. Residuel Pleth. (t]\\nCap. Pulm. Totale Pleth. (t]\\nCRF pléthysmo. (L]\\nVR % CPT pleth. [%]\\n\\nConductances spécifiques [1/(KPA*S)]\\n\\nCV Forcée Expi {t]\\nVEMS [L)\\nVEMS % CV MAX [%]\\n\\nDEMM 25/75 [L/s]\\n\\nThéo.\\n\\n2.76\\n1.79\\n4.70\\n\\n2.62\\n38.34\\n\\n1.04\\n2.67\\n\\n2.26\\n78.3\\n2.97\\n\\nLIN\\n\\n2.07\\n1.21\\n3.72\\n\\n1.80\\n28.75\\n\\n1.04\\n1.96\\n\\n1.63\\n67.6\\n1.57\\n\\nBasal\\n\\n2.41\\n3.83\\n6.24\\n\\n5.01\\n61.36\\n\\n0.35\\n2.18\\n\\n1.12\\n46.4\\n0.48\\n\\n% Théo. .\\n\\n87\\n214\\n133\\n\\n191\\n160\\n\\n34\\n82\\n\\n50\\n59\\n16\\n'"
      ]
     },
     "execution_count": 3,
     "metadata": {},
     "output_type": "execute_result"
    }
   ],
   "source": [
    "# Utilisez Tesseract pour extraire le texte\n",
    "text = pytesseract.image_to_string(Image.open('preprocessed_image.png'))\n",
    "\n",
    "text"
   ]
  },
  {
   "attachments": {},
   "cell_type": "markdown",
   "metadata": {},
   "source": [
    "## Processing du texte"
   ]
  },
  {
   "cell_type": "code",
   "execution_count": 4,
   "metadata": {},
   "outputs": [],
   "source": [
    "# Splitting the text into sections for LIN, Basal, and % Théo\n",
    "sections = text.split('\\n')"
   ]
  },
  {
   "cell_type": "code",
   "execution_count": 6,
   "metadata": {},
   "outputs": [],
   "source": [
    "def extract_section(sections, start_keyword=None, end_keyword=None):\n",
    "    if start_keyword:\n",
    "        start_idx = sections.index(start_keyword) + 1\n",
    "    else:\n",
    "        start_idx = 0\n",
    "    \n",
    "    if end_keyword:\n",
    "        end_idx = sections.index(end_keyword)\n",
    "    else:\n",
    "        end_idx = len(sections)\n",
    "    \n",
    "    return [item for item in sections[start_idx:end_idx] if item]\n",
    "\n",
    "parameters_section = extract_section(sections, None, 'Théo.')\n",
    "theo_values = extract_section(sections, 'Théo.', 'LIN')\n",
    "lin_values = extract_section(sections, 'LIN', 'Basal')\n",
    "basal_values = extract_section(sections, 'Basal', '% Théo. .')\n",
    "perc_theo_values = extract_section(sections, '% Théo. .')\n"
   ]
  },
  {
   "cell_type": "code",
   "execution_count": 8,
   "metadata": {},
   "outputs": [],
   "source": [
    "df_final = pd.DataFrame({\n",
    "    'Parameters': parameters_section,\n",
    "    'Théo': theo_values,\n",
    "    'LIN': lin_values,\n",
    "    'Basal': basal_values,\n",
    "    '% Théo': perc_theo_values\n",
    "})"
   ]
  },
  {
   "cell_type": "code",
   "execution_count": 9,
   "metadata": {},
   "outputs": [
    {
     "data": {
      "text/html": [
       "<div>\n",
       "<style scoped>\n",
       "    .dataframe tbody tr th:only-of-type {\n",
       "        vertical-align: middle;\n",
       "    }\n",
       "\n",
       "    .dataframe tbody tr th {\n",
       "        vertical-align: top;\n",
       "    }\n",
       "\n",
       "    .dataframe thead th {\n",
       "        text-align: right;\n",
       "    }\n",
       "</style>\n",
       "<table border=\"1\" class=\"dataframe\">\n",
       "  <thead>\n",
       "    <tr style=\"text-align: right;\">\n",
       "      <th></th>\n",
       "      <th>Parameters</th>\n",
       "      <th>Théo</th>\n",
       "      <th>LIN</th>\n",
       "      <th>Basal</th>\n",
       "      <th>% Théo</th>\n",
       "    </tr>\n",
       "  </thead>\n",
       "  <tbody>\n",
       "    <tr>\n",
       "      <th>0</th>\n",
       "      <td>Capacité vitale Pleth. (L]</td>\n",
       "      <td>2.76</td>\n",
       "      <td>2.07</td>\n",
       "      <td>2.41</td>\n",
       "      <td>87</td>\n",
       "    </tr>\n",
       "    <tr>\n",
       "      <th>1</th>\n",
       "      <td>Vol. Residuel Pleth. (t]</td>\n",
       "      <td>1.79</td>\n",
       "      <td>1.21</td>\n",
       "      <td>3.83</td>\n",
       "      <td>214</td>\n",
       "    </tr>\n",
       "    <tr>\n",
       "      <th>2</th>\n",
       "      <td>Cap. Pulm. Totale Pleth. (t]</td>\n",
       "      <td>4.70</td>\n",
       "      <td>3.72</td>\n",
       "      <td>6.24</td>\n",
       "      <td>133</td>\n",
       "    </tr>\n",
       "    <tr>\n",
       "      <th>3</th>\n",
       "      <td>CRF pléthysmo. (L]</td>\n",
       "      <td>2.62</td>\n",
       "      <td>1.80</td>\n",
       "      <td>5.01</td>\n",
       "      <td>191</td>\n",
       "    </tr>\n",
       "    <tr>\n",
       "      <th>4</th>\n",
       "      <td>VR % CPT pleth. [%]</td>\n",
       "      <td>38.34</td>\n",
       "      <td>28.75</td>\n",
       "      <td>61.36</td>\n",
       "      <td>160</td>\n",
       "    </tr>\n",
       "    <tr>\n",
       "      <th>5</th>\n",
       "      <td>Conductances spécifiques [1/(KPA*S)]</td>\n",
       "      <td>1.04</td>\n",
       "      <td>1.04</td>\n",
       "      <td>0.35</td>\n",
       "      <td>34</td>\n",
       "    </tr>\n",
       "    <tr>\n",
       "      <th>6</th>\n",
       "      <td>CV Forcée Expi {t]</td>\n",
       "      <td>2.67</td>\n",
       "      <td>1.96</td>\n",
       "      <td>2.18</td>\n",
       "      <td>82</td>\n",
       "    </tr>\n",
       "    <tr>\n",
       "      <th>7</th>\n",
       "      <td>VEMS [L)</td>\n",
       "      <td>2.26</td>\n",
       "      <td>1.63</td>\n",
       "      <td>1.12</td>\n",
       "      <td>50</td>\n",
       "    </tr>\n",
       "    <tr>\n",
       "      <th>8</th>\n",
       "      <td>VEMS % CV MAX [%]</td>\n",
       "      <td>78.3</td>\n",
       "      <td>67.6</td>\n",
       "      <td>46.4</td>\n",
       "      <td>59</td>\n",
       "    </tr>\n",
       "    <tr>\n",
       "      <th>9</th>\n",
       "      <td>DEMM 25/75 [L/s]</td>\n",
       "      <td>2.97</td>\n",
       "      <td>1.57</td>\n",
       "      <td>0.48</td>\n",
       "      <td>16</td>\n",
       "    </tr>\n",
       "  </tbody>\n",
       "</table>\n",
       "</div>"
      ],
      "text/plain": [
       "                             Parameters   Théo    LIN  Basal % Théo\n",
       "0            Capacité vitale Pleth. (L]   2.76   2.07   2.41     87\n",
       "1              Vol. Residuel Pleth. (t]   1.79   1.21   3.83    214\n",
       "2          Cap. Pulm. Totale Pleth. (t]   4.70   3.72   6.24    133\n",
       "3                    CRF pléthysmo. (L]   2.62   1.80   5.01    191\n",
       "4                   VR % CPT pleth. [%]  38.34  28.75  61.36    160\n",
       "5  Conductances spécifiques [1/(KPA*S)]   1.04   1.04   0.35     34\n",
       "6                    CV Forcée Expi {t]   2.67   1.96   2.18     82\n",
       "7                              VEMS [L)   2.26   1.63   1.12     50\n",
       "8                     VEMS % CV MAX [%]   78.3   67.6   46.4     59\n",
       "9                      DEMM 25/75 [L/s]   2.97   1.57   0.48     16"
      ]
     },
     "execution_count": 9,
     "metadata": {},
     "output_type": "execute_result"
    }
   ],
   "source": [
    "df_final"
   ]
  },
  {
   "cell_type": "code",
   "execution_count": null,
   "metadata": {},
   "outputs": [],
   "source": []
  }
 ],
 "metadata": {
  "kernelspec": {
   "display_name": "OCR_EFR",
   "language": "python",
   "name": "python3"
  },
  "language_info": {
   "codemirror_mode": {
    "name": "ipython",
    "version": 3
   },
   "file_extension": ".py",
   "mimetype": "text/x-python",
   "name": "python",
   "nbconvert_exporter": "python",
   "pygments_lexer": "ipython3",
   "version": "3.11.6"
  },
  "orig_nbformat": 4
 },
 "nbformat": 4,
 "nbformat_minor": 2
}
