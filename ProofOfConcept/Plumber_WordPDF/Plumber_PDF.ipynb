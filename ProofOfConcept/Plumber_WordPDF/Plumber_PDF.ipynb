{
 "cells": [
  {
   "cell_type": "markdown",
   "metadata": {},
   "source": []
  },
  {
   "attachments": {},
   "cell_type": "markdown",
   "metadata": {},
   "source": [
    "## Extracting the text"
   ]
  },
  {
   "cell_type": "code",
   "execution_count": 19,
   "metadata": {},
   "outputs": [],
   "source": [
    "import PyPDF2\n",
    "\n",
    "def extract_text_from_pdf(pdf_path):\n",
    "    with open(pdf_path, 'rb') as file:\n",
    "        # Initialize PDF reader\n",
    "        pdf = PyPDF2.PdfReader(file)\n",
    "        \n",
    "        # Loop through all the pages and extract text\n",
    "        text = \"\"\n",
    "        for page in pdf.pages:\n",
    "            text += page.extract_text()\n",
    "            \n",
    "    return text\n",
    "\n",
    "# Extract text from the PDF\n",
    "pdf_path = \"anonyme2.pdf\"\n",
    "pdf_text = extract_text_from_pdf(pdf_path)\n"
   ]
  },
  {
   "attachments": {},
   "cell_type": "markdown",
   "metadata": {},
   "source": [
    "## Pre-processing the dataframe"
   ]
  },
  {
   "cell_type": "code",
   "execution_count": 20,
   "metadata": {},
   "outputs": [
    {
     "data": {
      "text/plain": [
       "'  06.07.09 29.07.09 12.08.09 24.08.09 16.09.09 13.10.09 12.11.09 17.12.09 03.02.10 08.03.10 23.03.10 CV  2410 56% 2420 57% 2550 58% 2550 60% 2700 63% 2650 63% 2700 63% 3000 71% 2850 67% 3000 70% 2950 69% VR Helium            VR  Plethysmo   2750 176%     2950 189%    CPT Helium            CPT Plethysmo   5350 90%     6000 101%    VR/CPT   52%         VEMS  2280 62% 2350 65% 2450 67% 2450 68% 2500 69% 2450 67% 2450 67% 2700 74% 2700 74% 2750 75% 2700 73% VEMS/CV 95% 97% 95% 97% 94% 92% 91% 88% 94% 91%  DEM 25-75 4000 87% 5420 5000 110% 5350 116% 4200 91% 3350 73% 3350 73% 2800 61% 3200 70% 3150 69% 2900 63% AA/O²            PaO²            PaCO²            pH            TLCO            TLCO/Va            AA/O² AA AA  AA AA AA AA AA AA AA  Walk Test 575 m 600 m  575 m 550 m 535 m 550 m 587 m 600 m 600 m  SaO² mini 98/97 97/96  97/96 2’ 97/97 97/96 2’ 97/95 99/99 98/95 99/99  Arrêt inter                    14.06.10 17.01.11 15.03.11 05.07.11 03.10.11 15.11.11 06.12.11 13.03.12 22/06/12 10.09.12 13.11.12 CV  3200 72% 3050 72% 3260 77% 3250 76% 3150 74% 3300 78% 3000 73% 3200 75% 3550 81% 3050 73% 3200 76% VR Helium            VR  Plethysmo 2900 185%        3150 194%   CPT Helium            CPT Plethysmo 6100 103%        6700 113%   VR/CPT 47%        47%   VEMS  2950 81% 2550 70% 2900 80% 2800 77% 2700 75% 2850 79% 2700 76% 2800 78% 3200 89% 2650 74% 2950 83% VEMS/CV 91% 83% 89% 86% 87% 84% 86% 85% 89% 87% 92% DEM 25-75 3500 77% 2200 49% 2700 60% 2550 56% 2550 57% 2800 62% 2630 59% 2700 60% 3500 78% 2700 60% 3050 69% AA/O²            PaO²            PaCO²            pH            TLCO             TLCO/Va             AA/O² AA  AA  AA       Walk Test 585 m  600 m  575 m       SaO² mini 98/98  99/98  98/97 5’       Arrêt inter  Après EVR              12.02.13 10.04.13 04/07/13 20/09/13 25/09/13 10/10/13 10/12/13 11/03/14 31/03/14 04/04/14 25/04/14 CV  3110 74% 3400 79% 3450 77% 3180 74% 3400 76% 3350 75% 3400 79% 3250 78% 3470 78% 3270 75% 3350 78% VR Helium            VR  Plethysmo   3200 192%         CPT Helium            CPT Plethysmo   6350 77%         VR/CPT            VEMS  2700 76% 3000 84% 3150 86% 2660 74% 2800 78% 2850 79% 2850 81% 2800 79% 2300 63% 2250 62% 2900 80% VEMS/CV 87% 88% 91% 84% 83% 86% 85% 85% 69% 69% 87% DEM 25-75 2830 64% 2900 66% 3400 76% 2480 56% 2800 64% 2900 65% 2700 61% 2900 66% 1560 35% 1530 34% 3000 67% AA/O²            PaO²            PaCO²            pH            TLCO            TLCO/Va            AA/O²            Walk Test            SaO² mini            Arrêt inter                12/06/14 15/09/14 15/12/14 05/03/15 A5M9 07/05/15 15/05/15 20/05/15 22/05/2015 12/06/15 02/07/15 15.09.15 dl tho CV  3400 76% 3450 77% 3350 76% 3380 76% 3300 74% 3350 80% 3430 77% 3400 80% 3250 74% 3250 74% 3100 74% VR Helium            VR  Plethysmo 2500 148%        2700 158%   CPT Helium            CPT Plethysmo 5900 96%        5960 98%   VR/CPT            VEMS  2900 81% 2900 81% 2950 82% 3000 84% 2510 70% 2600 72% 2740 76% 2850 80% 2800 78% 2700 75% 2700 75% VEMS/CV 89% 84% 87% 90% 77% 77% 80% 84% 86% 84% 86% DEM 25-75 3000 68% 2900 66% 3100 71% 3670 84% 2050 47% 2160 50% 2430 55% 3000 69% 2950 67% 2650 60% 2900 67% AA/O²            PaO²            PaCO²            pH            TLCO             TLCO/Va             AA/O² Aa        Aa   Walk Test 575 m        600m   SaO² mini 98/97%        98/98%   Arrêt inter                06.10.15 15.12.15 29.03.16 07/06/16 30/09/16 A7m3 22/12/16 11/01/17     CV  3250 77% 3350 79% 3300 79% 3240 74% 3220 74% 3080 70% 3270 75%     VR Helium            VR  Plethysmo  2750 160%  2940 171%        CPT Helium            CPT Plethysmo  6100 100%  6180 101%        VR/CPT            VEMS  2800 79% 2900 81% 2840 80% 2780 78% 2850 81% 2420 68% 2450 69%     VEMS/CV 86% 85% 85% 88% 89% 79% 75%     DEM 25-75 2900 67% 3000 69% 3050 70% 3070 71% 3400 79% 2000 46% 1910 44%     AA/O²            PaO²            PaCO²            pH            TLCO             TLCO/Va             AA/O²  AA  Aa        Walk Test  625m  575m        SaO² mini  98/97  98/96%        Arrêt inter             '"
      ]
     },
     "execution_count": 20,
     "metadata": {},
     "output_type": "execute_result"
    }
   ],
   "source": [
    "pdf_text"
   ]
  },
  {
   "cell_type": "code",
   "execution_count": null,
   "metadata": {},
   "outputs": [],
   "source": []
  }
 ],
 "metadata": {
  "kernelspec": {
   "display_name": "OCR_EFR",
   "language": "python",
   "name": "python3"
  },
  "language_info": {
   "codemirror_mode": {
    "name": "ipython",
    "version": 3
   },
   "file_extension": ".py",
   "mimetype": "text/x-python",
   "name": "python",
   "nbconvert_exporter": "python",
   "pygments_lexer": "ipython3",
   "version": "3.11.6"
  },
  "orig_nbformat": 4
 },
 "nbformat": 4,
 "nbformat_minor": 2
}
